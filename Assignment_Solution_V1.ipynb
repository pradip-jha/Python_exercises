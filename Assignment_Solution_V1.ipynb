{
 "cells": [
  {
   "cell_type": "markdown",
   "metadata": {},
   "source": [
    "Question - 2\n",
    "Write a programm which will find all such number which are divisible by 7 but are not multiple of 5, betweeen 2000 and 3200(both included). The numbers obtained should be printed in comma separted sequence on a single line."
   ]
  },
  {
   "cell_type": "code",
   "execution_count": 57,
   "metadata": {},
   "outputs": [
    {
     "name": "stdout",
     "output_type": "stream",
     "text": [
      "[2002, 2009, 2016, 2023, 2037, 2044, 2051, 2058, 2072, 2079, 2086, 2093, 2107, 2114, 2121, 2128, 2142, 2149, 2156, 2163, 2177, 2184, 2191, 2198, 2212, 2219, 2226, 2233, 2247, 2254, 2261, 2268, 2282, 2289, 2296, 2303, 2317, 2324, 2331, 2338, 2352, 2359, 2366, 2373, 2387, 2394, 2401, 2408, 2422, 2429, 2436, 2443, 2457, 2464, 2471, 2478, 2492, 2499, 2506, 2513, 2527, 2534, 2541, 2548, 2562, 2569, 2576, 2583, 2597, 2604, 2611, 2618, 2632, 2639, 2646, 2653, 2667, 2674, 2681, 2688, 2702, 2709, 2716, 2723, 2737, 2744, 2751, 2758, 2772, 2779, 2786, 2793, 2807, 2814, 2821, 2828, 2842, 2849, 2856, 2863, 2877, 2884, 2891, 2898, 2912, 2919, 2926, 2933, 2947, 2954, 2961, 2968, 2982, 2989, 2996, 3003, 3017, 3024, 3031, 3038, 3052, 3059, 3066, 3073, 3087, 3094, 3101, 3108, 3122, 3129, 3136, 3143, 3157, 3164, 3171, 3178, 3192, 3199]\n"
     ]
    }
   ],
   "source": [
    "list_1 =[]\n",
    "def mult_func(start_no,end_no):\n",
    "    while start_no <= end_no:\n",
    "        # print(\"in while loop\", start_no)\n",
    "        start_no += 1\n",
    "        if start_no % 7 ==0 and start_no % 5 != 0 :\n",
    "            #print(\"in if statment\", start_no % 7, start_no % 5)\n",
    "            list_1.append(start_no)\n",
    "            start_no += 1\n",
    "    #else:\n",
    "        #print( start_no % 7)\n",
    "        #print(\"inside else statment\")\n",
    "        #start_no += 1\n",
    "        \n",
    "mult_func(2000,3200)\n",
    "print(list_1)\n",
    "#print(\"Hello world1\")\n",
    "\n"
   ]
  },
  {
   "cell_type": "markdown",
   "metadata": {},
   "source": [
    "Question - 3\n",
    "Write a program to accecpt users first name and last name and then get it printed in reverse order"
   ]
  },
  {
   "cell_type": "code",
   "execution_count": 60,
   "metadata": {},
   "outputs": [
    {
     "name": "stdout",
     "output_type": "stream",
     "text": [
      "enter your first name:pradip\n",
      "enter your last name:jha\n",
      "Full reverse name jha pradip\n"
     ]
    }
   ],
   "source": [
    " first_name = input(\"enter your first name:\")\n",
    " last_name = input(\"enter your last name:\")\n",
    " print(\"Full reverse name\",last_name,first_name)"
   ]
  },
  {
   "cell_type": "markdown",
   "metadata": {},
   "source": [
    "Question 4:  Write a programme to find volume of sphere with diameter 12 Formula = 4/3 Pie R 3"
   ]
  },
  {
   "cell_type": "code",
   "execution_count": 7,
   "metadata": {},
   "outputs": [
    {
     "name": "stdout",
     "output_type": "stream",
     "text": [
      "904.7786842338603\n"
     ]
    }
   ],
   "source": [
    "import math\n",
    "#print(math.pi)\n",
    "def volume_sphere(Diameter):\n",
    "    radius = Diameter/2\n",
    "    Volume = 4/3 * math.pi * radius **3\n",
    "    print(Volume)\n",
    "\n",
    "\n",
    "volume_sphere(12)    \n"
   ]
  },
  {
   "cell_type": "markdown",
   "metadata": {},
   "source": [
    "Section 2 - \n",
    "Question 1Write a program which accepts sequence of comma separated numbers from console and generate a list"
   ]
  },
  {
   "cell_type": "code",
   "execution_count": 9,
   "metadata": {},
   "outputs": [
    {
     "name": "stdout",
     "output_type": "stream",
     "text": [
      "Enter comma separated number1,2,3,4,5\n",
      "['1', '2', '3', '4', '5']\n"
     ]
    }
   ],
   "source": [
    "sequence = input(\"Enter comma separated number\")\n",
    "sequence_list = sequence.split(\",\")\n",
    "print(sequence_list)"
   ]
  },
  {
   "cell_type": "markdown",
   "metadata": {},
   "source": [
    "Question 2 - Created a below output "
   ]
  },
  {
   "cell_type": "code",
   "execution_count": 9,
   "metadata": {},
   "outputs": [
    {
     "name": "stdout",
     "output_type": "stream",
     "text": [
      "\n",
      "\n",
      "* \n",
      "\n",
      "* * \n",
      "\n",
      "* * * \n",
      "\n",
      "* * * * \n",
      "\n",
      "* * * * * \n",
      "\n",
      "* * * * \n",
      "\n",
      "* * * \n",
      "\n",
      "* * \n",
      "\n",
      "* \n",
      "\n"
     ]
    }
   ],
   "source": [
    "#count = 1\n",
    "for count in range(0,6):\n",
    "     for count_1 in range(0,count):\n",
    "        print(\"*\",end = \" \")\n",
    "     print(\"\\n\")\n",
    "for count in range(4,0,-1):\n",
    "     for count_1 in range(0,count):\n",
    "        print(\"*\",end = \" \")\n",
    "     print(\"\\n\")"
   ]
  },
  {
   "cell_type": "markdown",
   "metadata": {},
   "source": [
    "Question 3, Write a program to reverse a word after accepting input from user. "
   ]
  },
  {
   "cell_type": "code",
   "execution_count": 30,
   "metadata": {},
   "outputs": [
    {
     "name": "stdout",
     "output_type": "stream",
     "text": [
      " Please enter wordabcdefghijklm\n",
      "mlkjihgfedcba\n"
     ]
    }
   ],
   "source": [
    "input_user = input(\" Please enter word\")[::-1]\n",
    "\n",
    "print(input_user)\n"
   ]
  },
  {
   "cell_type": "markdown",
   "metadata": {},
   "source": [
    "Write a python programme, to print in specific format\n",
    "\n",
    "WE THE PEOPLE OF INDIA, having solemnly resolved to consitute india into a SOVERIGN ! SOCIALIST, SECULAR, DEMOCRATIC REPUBLIC and to secure its all citizens"
   ]
  },
  {
   "cell_type": "code",
   "execution_count": 56,
   "metadata": {},
   "outputs": [
    {
     "name": "stdout",
     "output_type": "stream",
     "text": [
      "WE THE PEOPLE OF INDIA,\n",
      "\thaving solemnly resolved to consitute india into a SOVERIGN !\n",
      "\t\t SOCIALIST, SECULAR,DEMOCRATIC REPUBLIC \n",
      "\t\t and to secure its all citizens\n"
     ]
    }
   ],
   "source": [
    "print(\"WE THE PEOPLE OF INDIA,\\n\\thaving solemnly resolved to consitute india into a SOVERIGN !\\n\\t\\t SOCIALIST, SECULAR,DEMOCRATIC REPUBLIC \\n\\t\\t and to secure its all citizens\") "
   ]
  }
 ],
 "metadata": {
  "kernelspec": {
   "display_name": "Python 3",
   "language": "python",
   "name": "python3"
  },
  "language_info": {
   "codemirror_mode": {
    "name": "ipython",
    "version": 3
   },
   "file_extension": ".py",
   "mimetype": "text/x-python",
   "name": "python",
   "nbconvert_exporter": "python",
   "pygments_lexer": "ipython3",
   "version": "3.7.4"
  }
 },
 "nbformat": 4,
 "nbformat_minor": 2
}
